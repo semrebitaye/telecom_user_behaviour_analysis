{
 "cells": [
  {
   "cell_type": "markdown",
   "metadata": {},
   "source": [
    "## 1. Data Preparation"
   ]
  },
  {
   "cell_type": "markdown",
   "metadata": {},
   "source": [
    "##### a. Load the Data"
   ]
  },
  {
   "cell_type": "code",
   "execution_count": 5,
   "metadata": {},
   "outputs": [
    {
     "name": "stdout",
     "output_type": "stream",
     "text": [
      "Host: localhost, Port: 5432, DB: telecom_db, User: postgres\n"
     ]
    },
    {
     "data": {
      "text/html": [
       "<div>\n",
       "<style scoped>\n",
       "    .dataframe tbody tr th:only-of-type {\n",
       "        vertical-align: middle;\n",
       "    }\n",
       "\n",
       "    .dataframe tbody tr th {\n",
       "        vertical-align: top;\n",
       "    }\n",
       "\n",
       "    .dataframe thead th {\n",
       "        text-align: right;\n",
       "    }\n",
       "</style>\n",
       "<table border=\"1\" class=\"dataframe\">\n",
       "  <thead>\n",
       "    <tr style=\"text-align: right;\">\n",
       "      <th></th>\n",
       "      <th>Bearer Id</th>\n",
       "      <th>Start</th>\n",
       "      <th>Start ms</th>\n",
       "      <th>End</th>\n",
       "      <th>End ms</th>\n",
       "      <th>Dur. (ms)</th>\n",
       "      <th>IMSI</th>\n",
       "      <th>MSISDN/Number</th>\n",
       "      <th>IMEI</th>\n",
       "      <th>Last Location Name</th>\n",
       "      <th>...</th>\n",
       "      <th>Youtube DL (Bytes)</th>\n",
       "      <th>Youtube UL (Bytes)</th>\n",
       "      <th>Netflix DL (Bytes)</th>\n",
       "      <th>Netflix UL (Bytes)</th>\n",
       "      <th>Gaming DL (Bytes)</th>\n",
       "      <th>Gaming UL (Bytes)</th>\n",
       "      <th>Other DL (Bytes)</th>\n",
       "      <th>Other UL (Bytes)</th>\n",
       "      <th>Total UL (Bytes)</th>\n",
       "      <th>Total DL (Bytes)</th>\n",
       "    </tr>\n",
       "  </thead>\n",
       "  <tbody>\n",
       "    <tr>\n",
       "      <th>0</th>\n",
       "      <td>1.311448e+19</td>\n",
       "      <td>4/4/2019 12:01</td>\n",
       "      <td>770.0</td>\n",
       "      <td>4/25/2019 14:35</td>\n",
       "      <td>662.0</td>\n",
       "      <td>1823652.0</td>\n",
       "      <td>2.082014e+14</td>\n",
       "      <td>3.366496e+10</td>\n",
       "      <td>3.552121e+13</td>\n",
       "      <td>9.16456699548519E+015</td>\n",
       "      <td>...</td>\n",
       "      <td>15854611.0</td>\n",
       "      <td>2501332.0</td>\n",
       "      <td>8198936.0</td>\n",
       "      <td>9656251.0</td>\n",
       "      <td>278082303.0</td>\n",
       "      <td>14344150.0</td>\n",
       "      <td>171744450.0</td>\n",
       "      <td>8814393.0</td>\n",
       "      <td>36749741.0</td>\n",
       "      <td>308879636.0</td>\n",
       "    </tr>\n",
       "    <tr>\n",
       "      <th>1</th>\n",
       "      <td>1.311448e+19</td>\n",
       "      <td>4/9/2019 13:04</td>\n",
       "      <td>235.0</td>\n",
       "      <td>4/25/2019 8:15</td>\n",
       "      <td>606.0</td>\n",
       "      <td>1365104.0</td>\n",
       "      <td>2.082019e+14</td>\n",
       "      <td>3.368185e+10</td>\n",
       "      <td>3.579401e+13</td>\n",
       "      <td>L77566A</td>\n",
       "      <td>...</td>\n",
       "      <td>20247395.0</td>\n",
       "      <td>19111729.0</td>\n",
       "      <td>18338413.0</td>\n",
       "      <td>17227132.0</td>\n",
       "      <td>608750074.0</td>\n",
       "      <td>1170709.0</td>\n",
       "      <td>526904238.0</td>\n",
       "      <td>15055145.0</td>\n",
       "      <td>53800391.0</td>\n",
       "      <td>653384965.0</td>\n",
       "    </tr>\n",
       "    <tr>\n",
       "      <th>2</th>\n",
       "      <td>1.311448e+19</td>\n",
       "      <td>4/9/2019 17:42</td>\n",
       "      <td>1.0</td>\n",
       "      <td>4/25/2019 11:58</td>\n",
       "      <td>652.0</td>\n",
       "      <td>1361762.0</td>\n",
       "      <td>2.082003e+14</td>\n",
       "      <td>3.376063e+10</td>\n",
       "      <td>3.528151e+13</td>\n",
       "      <td>D42335A</td>\n",
       "      <td>...</td>\n",
       "      <td>19725661.0</td>\n",
       "      <td>14699576.0</td>\n",
       "      <td>17587794.0</td>\n",
       "      <td>6163408.0</td>\n",
       "      <td>229584621.0</td>\n",
       "      <td>395630.0</td>\n",
       "      <td>410692588.0</td>\n",
       "      <td>4215763.0</td>\n",
       "      <td>27883638.0</td>\n",
       "      <td>279807335.0</td>\n",
       "    </tr>\n",
       "    <tr>\n",
       "      <th>3</th>\n",
       "      <td>1.311448e+19</td>\n",
       "      <td>4/10/2019 0:31</td>\n",
       "      <td>486.0</td>\n",
       "      <td>4/25/2019 7:36</td>\n",
       "      <td>171.0</td>\n",
       "      <td>1321509.0</td>\n",
       "      <td>2.082014e+14</td>\n",
       "      <td>3.375034e+10</td>\n",
       "      <td>3.535661e+13</td>\n",
       "      <td>T21824A</td>\n",
       "      <td>...</td>\n",
       "      <td>21388122.0</td>\n",
       "      <td>15146643.0</td>\n",
       "      <td>13994646.0</td>\n",
       "      <td>1097942.0</td>\n",
       "      <td>799538153.0</td>\n",
       "      <td>10849722.0</td>\n",
       "      <td>749039933.0</td>\n",
       "      <td>12797283.0</td>\n",
       "      <td>43324218.0</td>\n",
       "      <td>846028530.0</td>\n",
       "    </tr>\n",
       "    <tr>\n",
       "      <th>4</th>\n",
       "      <td>1.311448e+19</td>\n",
       "      <td>4/12/2019 20:10</td>\n",
       "      <td>565.0</td>\n",
       "      <td>4/25/2019 10:40</td>\n",
       "      <td>954.0</td>\n",
       "      <td>1089009.0</td>\n",
       "      <td>2.082014e+14</td>\n",
       "      <td>3.369980e+10</td>\n",
       "      <td>3.540701e+13</td>\n",
       "      <td>D88865A</td>\n",
       "      <td>...</td>\n",
       "      <td>15259380.0</td>\n",
       "      <td>18962873.0</td>\n",
       "      <td>17124581.0</td>\n",
       "      <td>415218.0</td>\n",
       "      <td>527707248.0</td>\n",
       "      <td>3529801.0</td>\n",
       "      <td>550709500.0</td>\n",
       "      <td>13910322.0</td>\n",
       "      <td>38542814.0</td>\n",
       "      <td>569138589.0</td>\n",
       "    </tr>\n",
       "  </tbody>\n",
       "</table>\n",
       "<p>5 rows × 55 columns</p>\n",
       "</div>"
      ],
      "text/plain": [
       "      Bearer Id            Start  Start ms              End  End ms  \\\n",
       "0  1.311448e+19   4/4/2019 12:01     770.0  4/25/2019 14:35   662.0   \n",
       "1  1.311448e+19   4/9/2019 13:04     235.0   4/25/2019 8:15   606.0   \n",
       "2  1.311448e+19   4/9/2019 17:42       1.0  4/25/2019 11:58   652.0   \n",
       "3  1.311448e+19   4/10/2019 0:31     486.0   4/25/2019 7:36   171.0   \n",
       "4  1.311448e+19  4/12/2019 20:10     565.0  4/25/2019 10:40   954.0   \n",
       "\n",
       "   Dur. (ms)          IMSI  MSISDN/Number          IMEI  \\\n",
       "0  1823652.0  2.082014e+14   3.366496e+10  3.552121e+13   \n",
       "1  1365104.0  2.082019e+14   3.368185e+10  3.579401e+13   \n",
       "2  1361762.0  2.082003e+14   3.376063e+10  3.528151e+13   \n",
       "3  1321509.0  2.082014e+14   3.375034e+10  3.535661e+13   \n",
       "4  1089009.0  2.082014e+14   3.369980e+10  3.540701e+13   \n",
       "\n",
       "      Last Location Name  ...  Youtube DL (Bytes)  Youtube UL (Bytes)  \\\n",
       "0  9.16456699548519E+015  ...          15854611.0           2501332.0   \n",
       "1                L77566A  ...          20247395.0          19111729.0   \n",
       "2                D42335A  ...          19725661.0          14699576.0   \n",
       "3                T21824A  ...          21388122.0          15146643.0   \n",
       "4                D88865A  ...          15259380.0          18962873.0   \n",
       "\n",
       "   Netflix DL (Bytes)  Netflix UL (Bytes)  Gaming DL (Bytes)  \\\n",
       "0           8198936.0           9656251.0        278082303.0   \n",
       "1          18338413.0          17227132.0        608750074.0   \n",
       "2          17587794.0           6163408.0        229584621.0   \n",
       "3          13994646.0           1097942.0        799538153.0   \n",
       "4          17124581.0            415218.0        527707248.0   \n",
       "\n",
       "   Gaming UL (Bytes)  Other DL (Bytes)  Other UL (Bytes)  Total UL (Bytes)  \\\n",
       "0         14344150.0       171744450.0         8814393.0        36749741.0   \n",
       "1          1170709.0       526904238.0        15055145.0        53800391.0   \n",
       "2           395630.0       410692588.0         4215763.0        27883638.0   \n",
       "3         10849722.0       749039933.0        12797283.0        43324218.0   \n",
       "4          3529801.0       550709500.0        13910322.0        38542814.0   \n",
       "\n",
       "   Total DL (Bytes)  \n",
       "0       308879636.0  \n",
       "1       653384965.0  \n",
       "2       279807335.0  \n",
       "3       846028530.0  \n",
       "4       569138589.0  \n",
       "\n",
       "[5 rows x 55 columns]"
      ]
     },
     "execution_count": 5,
     "metadata": {},
     "output_type": "execute_result"
    }
   ],
   "source": [
    "import sys\n",
    "import os\n",
    "\n",
    "# Append the scripts directory to the system path\n",
    "sys.path.append('/home/semre/telecom_user_behaviour_analysis/scripts')\n",
    "\n",
    "# Change the current working directory to the appropriate path\n",
    "os.chdir('/home/semre/telecom_user_behaviour_analysis')\n",
    "\n",
    "# Import the required functions and modules\n",
    "from src.utils import missing_values_table\n",
    "from data_loader import load_data_from_db\n",
    "\n",
    "# Call the function to load data\n",
    "query = \"SELECT * FROM public.xdr_data\"\n",
    "df = load_data_from_db(query)\n",
    "\n",
    "# Display the first few rows of the DataFrame\n",
    "df.head()"
   ]
  },
  {
   "cell_type": "code",
   "execution_count": 6,
   "metadata": {},
   "outputs": [
    {
     "ename": "AttributeError",
     "evalue": "'DataFrame' object has no attribute 'isnul'",
     "output_type": "error",
     "traceback": [
      "\u001b[0;31m---------------------------------------------------------------------------\u001b[0m",
      "\u001b[0;31mAttributeError\u001b[0m                            Traceback (most recent call last)",
      "\u001b[0;32m/tmp/ipykernel_18038/602312839.py\u001b[0m in \u001b[0;36m?\u001b[0;34m()\u001b[0m\n\u001b[0;32m----> 1\u001b[0;31m \u001b[0mmissing_values_df\u001b[0m \u001b[0;34m=\u001b[0m \u001b[0mmissing_values_table\u001b[0m\u001b[0;34m(\u001b[0m\u001b[0mdf\u001b[0m\u001b[0;34m)\u001b[0m\u001b[0;34m\u001b[0m\u001b[0;34m\u001b[0m\u001b[0m\n\u001b[0m\u001b[1;32m      2\u001b[0m \u001b[0mprint\u001b[0m\u001b[0;34m(\u001b[0m\u001b[0;34m\"Missing Values in df:\"\u001b[0m\u001b[0;34m)\u001b[0m\u001b[0;34m\u001b[0m\u001b[0;34m\u001b[0m\u001b[0m\n\u001b[1;32m      3\u001b[0m \u001b[0mprint\u001b[0m\u001b[0;34m(\u001b[0m\u001b[0mmissing_values_df\u001b[0m\u001b[0;34m)\u001b[0m\u001b[0;34m\u001b[0m\u001b[0;34m\u001b[0m\u001b[0m\n",
      "\u001b[0;32m~/telecom_user_behaviour_analysis/src/utils.py\u001b[0m in \u001b[0;36m?\u001b[0;34m(df)\u001b[0m\n\u001b[1;32m      6\u001b[0m     \u001b[0;31m# total missing values\u001b[0m\u001b[0;34m\u001b[0m\u001b[0;34m\u001b[0m\u001b[0m\n\u001b[1;32m      7\u001b[0m     \u001b[0mmis_val\u001b[0m \u001b[0;34m=\u001b[0m \u001b[0mdf\u001b[0m\u001b[0;34m.\u001b[0m\u001b[0misnull\u001b[0m\u001b[0;34m(\u001b[0m\u001b[0;34m)\u001b[0m\u001b[0;34m.\u001b[0m\u001b[0msum\u001b[0m\u001b[0;34m(\u001b[0m\u001b[0;34m)\u001b[0m\u001b[0;34m\u001b[0m\u001b[0;34m\u001b[0m\u001b[0m\n\u001b[1;32m      8\u001b[0m \u001b[0;34m\u001b[0m\u001b[0m\n\u001b[1;32m      9\u001b[0m     \u001b[0;31m# percentage of missing value\u001b[0m\u001b[0;34m\u001b[0m\u001b[0;34m\u001b[0m\u001b[0m\n\u001b[0;32m---> 10\u001b[0;31m     \u001b[0mmis_val_percent\u001b[0m \u001b[0;34m=\u001b[0m \u001b[0;36m100\u001b[0m \u001b[0;34m*\u001b[0m \u001b[0mdf\u001b[0m\u001b[0;34m.\u001b[0m\u001b[0misnull\u001b[0m\u001b[0;34m(\u001b[0m\u001b[0;34m)\u001b[0m\u001b[0;34m.\u001b[0m\u001b[0msum\u001b[0m\u001b[0;34m(\u001b[0m\u001b[0;34m)\u001b[0m \u001b[0;34m/\u001b[0m \u001b[0mlen\u001b[0m\u001b[0;34m(\u001b[0m\u001b[0mdf\u001b[0m\u001b[0;34m)\u001b[0m\u001b[0;34m\u001b[0m\u001b[0;34m\u001b[0m\u001b[0m\n\u001b[0m\u001b[1;32m     11\u001b[0m \u001b[0;34m\u001b[0m\u001b[0m\n\u001b[1;32m     12\u001b[0m     \u001b[0;31m# dtype of missing value\u001b[0m\u001b[0;34m\u001b[0m\u001b[0;34m\u001b[0m\u001b[0m\n\u001b[1;32m     13\u001b[0m     \u001b[0mmis_val_type\u001b[0m \u001b[0;34m=\u001b[0m \u001b[0mdf\u001b[0m\u001b[0;34m.\u001b[0m\u001b[0mdtypes\u001b[0m\u001b[0;34m\u001b[0m\u001b[0;34m\u001b[0m\u001b[0m\n",
      "\u001b[0;32m~/.local/lib/python3.10/site-packages/pandas/core/generic.py\u001b[0m in \u001b[0;36m?\u001b[0;34m(self, name)\u001b[0m\n\u001b[1;32m   6295\u001b[0m             \u001b[0;32mand\u001b[0m \u001b[0mname\u001b[0m \u001b[0;32mnot\u001b[0m \u001b[0;32min\u001b[0m \u001b[0mself\u001b[0m\u001b[0;34m.\u001b[0m\u001b[0m_accessors\u001b[0m\u001b[0;34m\u001b[0m\u001b[0;34m\u001b[0m\u001b[0m\n\u001b[1;32m   6296\u001b[0m             \u001b[0;32mand\u001b[0m \u001b[0mself\u001b[0m\u001b[0;34m.\u001b[0m\u001b[0m_info_axis\u001b[0m\u001b[0;34m.\u001b[0m\u001b[0m_can_hold_identifiers_and_holds_name\u001b[0m\u001b[0;34m(\u001b[0m\u001b[0mname\u001b[0m\u001b[0;34m)\u001b[0m\u001b[0;34m\u001b[0m\u001b[0;34m\u001b[0m\u001b[0m\n\u001b[1;32m   6297\u001b[0m         ):\n\u001b[1;32m   6298\u001b[0m             \u001b[0;32mreturn\u001b[0m \u001b[0mself\u001b[0m\u001b[0;34m[\u001b[0m\u001b[0mname\u001b[0m\u001b[0;34m]\u001b[0m\u001b[0;34m\u001b[0m\u001b[0;34m\u001b[0m\u001b[0m\n\u001b[0;32m-> 6299\u001b[0;31m         \u001b[0;32mreturn\u001b[0m \u001b[0mobject\u001b[0m\u001b[0;34m.\u001b[0m\u001b[0m__getattribute__\u001b[0m\u001b[0;34m(\u001b[0m\u001b[0mself\u001b[0m\u001b[0;34m,\u001b[0m \u001b[0mname\u001b[0m\u001b[0;34m)\u001b[0m\u001b[0;34m\u001b[0m\u001b[0;34m\u001b[0m\u001b[0m\n\u001b[0m",
      "\u001b[0;31mAttributeError\u001b[0m: 'DataFrame' object has no attribute 'isnul'"
     ]
    }
   ],
   "source": [
    "missing_values_df = missing_values_table(df)\n",
    "print(\"Missing Values in df:\")\n",
    "print(missing_values_df)"
   ]
  },
  {
   "cell_type": "markdown",
   "metadata": {},
   "source": [
    "#### b. Data Cleaning"
   ]
  },
  {
   "cell_type": "code",
   "execution_count": 3,
   "metadata": {},
   "outputs": [],
   "source": [
    "# Select only numeric columns for calculating the mean\n",
    "numeric_cols = df.select_dtypes(include=['number']).columns\n",
    "\n",
    "# Replace missing values in numeric columns with the mean of those columns\n",
    "df[numeric_cols] = df[numeric_cols].fillna(df[numeric_cols].mean())\n",
    "\n",
    "# For non-numeric columns, you may need to handle missing values differently.\n",
    "# For example, you could fill NaNs with a placeholder like 'Unknown' or use a different strategy.\n",
    "non_numeric_cols = df.select_dtypes(exclude=['number']).columns\n",
    "df[non_numeric_cols] = df[non_numeric_cols].fillna('Unknown')"
   ]
  },
  {
   "cell_type": "markdown",
   "metadata": {},
   "source": [
    "## 2. User Handset Analysis"
   ]
  },
  {
   "cell_type": "markdown",
   "metadata": {},
   "source": [
    "#### a. Identify Top 10 Handsets"
   ]
  },
  {
   "cell_type": "code",
   "execution_count": 5,
   "metadata": {},
   "outputs": [
    {
     "name": "stdout",
     "output_type": "stream",
     "text": [
      "Index(['Bearer Id', 'Start', 'Start ms', 'End', 'End ms', 'Dur. (ms)', 'IMSI',\n",
      "       'MSISDN/Number', 'IMEI', 'Last Location Name', 'Avg RTT DL (ms)',\n",
      "       'Avg RTT UL (ms)', 'Avg Bearer TP DL (kbps)', 'Avg Bearer TP UL (kbps)',\n",
      "       'TCP DL Retrans. Vol (Bytes)', 'TCP UL Retrans. Vol (Bytes)',\n",
      "       'DL TP < 50 Kbps (%)', '50 Kbps < DL TP < 250 Kbps (%)',\n",
      "       '250 Kbps < DL TP < 1 Mbps (%)', 'DL TP > 1 Mbps (%)',\n",
      "       'UL TP < 10 Kbps (%)', '10 Kbps < UL TP < 50 Kbps (%)',\n",
      "       '50 Kbps < UL TP < 300 Kbps (%)', 'UL TP > 300 Kbps (%)',\n",
      "       'HTTP DL (Bytes)', 'HTTP UL (Bytes)', 'Activity Duration DL (ms)',\n",
      "       'Activity Duration UL (ms)', 'Dur. (ms).1', 'Handset Manufacturer',\n",
      "       'Handset Type', 'Nb of sec with 125000B < Vol DL',\n",
      "       'Nb of sec with 1250B < Vol UL < 6250B',\n",
      "       'Nb of sec with 31250B < Vol DL < 125000B',\n",
      "       'Nb of sec with 37500B < Vol UL',\n",
      "       'Nb of sec with 6250B < Vol DL < 31250B',\n",
      "       'Nb of sec with 6250B < Vol UL < 37500B',\n",
      "       'Nb of sec with Vol DL < 6250B', 'Nb of sec with Vol UL < 1250B',\n",
      "       'Social Media DL (Bytes)', 'Social Media UL (Bytes)',\n",
      "       'Google DL (Bytes)', 'Google UL (Bytes)', 'Email DL (Bytes)',\n",
      "       'Email UL (Bytes)', 'Youtube DL (Bytes)', 'Youtube UL (Bytes)',\n",
      "       'Netflix DL (Bytes)', 'Netflix UL (Bytes)', 'Gaming DL (Bytes)',\n",
      "       'Gaming UL (Bytes)', 'Other DL (Bytes)', 'Other UL (Bytes)',\n",
      "       'Total UL (Bytes)', 'Total DL (Bytes)'],\n",
      "      dtype='object')\n"
     ]
    }
   ],
   "source": [
    "# Check the column names in the DataFrame\n",
    "print(df.columns)"
   ]
  },
  {
   "cell_type": "code",
   "execution_count": 7,
   "metadata": {},
   "outputs": [
    {
     "name": "stdout",
     "output_type": "stream",
     "text": [
      "Top 10 handsets based on Handset Type:\n",
      "Handset Type\n",
      "Huawei B528S-23A                19752\n",
      "Apple iPhone 6S (A1688)          9419\n",
      "Apple iPhone 6 (A1586)           9023\n",
      "undefined                        8987\n",
      "Apple iPhone 7 (A1778)           6326\n",
      "Apple iPhone Se (A1723)          5187\n",
      "Apple iPhone 8 (A1905)           4993\n",
      "Apple iPhone Xr (A2105)          4568\n",
      "Samsung Galaxy S8 (Sm-G950F)     4520\n",
      "Apple iPhone X (A1901)           3813\n",
      "Name: count, dtype: int64\n"
     ]
    }
   ],
   "source": [
    "top_handsets = df['Handset Type'].value_counts().head(10)\n",
    "print(\"Top 10 handsets based on Handset Type:\")\n",
    "print(top_handsets)"
   ]
  },
  {
   "cell_type": "markdown",
   "metadata": {},
   "source": [
    "#### b. Identify Top 3 Handset Manufacturers"
   ]
  },
  {
   "cell_type": "code",
   "execution_count": 10,
   "metadata": {},
   "outputs": [
    {
     "name": "stdout",
     "output_type": "stream",
     "text": [
      "Top 3 handset manufacturers:\n",
      "Handset Manufacturer\n",
      "Apple      59565\n",
      "Samsung    40839\n",
      "Huawei     34423\n",
      "Name: count, dtype: int64\n"
     ]
    }
   ],
   "source": [
    "top_manufacturers = df['Handset Manufacturer'].value_counts().head(3)\n",
    "print(\"Top 3 handset manufacturers:\")\n",
    "print(top_manufacturers)\n"
   ]
  },
  {
   "cell_type": "markdown",
   "metadata": {},
   "source": [
    "#### c. Identify Top 5 Handsets per Top 3 Manufacturers"
   ]
  },
  {
   "cell_type": "code",
   "execution_count": 12,
   "metadata": {},
   "outputs": [
    {
     "name": "stdout",
     "output_type": "stream",
     "text": [
      "Top 3 Manufacturers:\n",
      "Index(['Apple', 'Samsung', 'Huawei'], dtype='object', name='Handset Manufacturer')\n",
      "\n",
      "Top 5 Handsets for Apple:\n",
      "Handset Type\n",
      "Apple iPhone 6S (A1688)    9419\n",
      "Apple iPhone 6 (A1586)     9023\n",
      "Apple iPhone 7 (A1778)     6326\n",
      "Apple iPhone Se (A1723)    5187\n",
      "Apple iPhone 8 (A1905)     4993\n",
      "Name: count, dtype: int64\n",
      "\n",
      "Top 5 Handsets for Samsung:\n",
      "Handset Type\n",
      "Samsung Galaxy S8 (Sm-G950F)    4520\n",
      "Samsung Galaxy A5 Sm-A520F      3724\n",
      "Samsung Galaxy J5 (Sm-J530)     3696\n",
      "Samsung Galaxy J3 (Sm-J330)     3484\n",
      "Samsung Galaxy S7 (Sm-G930X)    3199\n",
      "Name: count, dtype: int64\n",
      "\n",
      "Top 5 Handsets for Huawei:\n",
      "Handset Type\n",
      "Huawei B528S-23A                  19752\n",
      "Huawei E5180                       2079\n",
      "Huawei P20 Lite Huawei Nova 3E     2021\n",
      "Huawei P20                         1480\n",
      "Huawei Y6 2018                      997\n",
      "Name: count, dtype: int64\n"
     ]
    }
   ],
   "source": [
    "# Step 1: Identify the Top 3 Manufacturers\n",
    "top_manufacturers = df['Handset Manufacturer'].value_counts().head(3).index\n",
    "print(\"Top 3 Manufacturers:\")\n",
    "print(top_manufacturers)\n",
    "\n",
    "# Step 2: Filter Data for Top 3 Manufacturers\n",
    "filtered_df = df[df['Handset Manufacturer'].isin(top_manufacturers)]\n",
    "\n",
    "# Step 3: Identify Top 5 Handsets for Each Manufacturer\n",
    "top_handsets_per_manufacturer = {}\n",
    "for manufacturer in top_manufacturers:\n",
    "    manufacturer_data = filtered_df[filtered_df['Handset Manufacturer'] == manufacturer]\n",
    "    top_handsets = manufacturer_data['Handset Type'].value_counts().head(5)\n",
    "    top_handsets_per_manufacturer[manufacturer] = top_handsets\n",
    "\n",
    "# Display Results\n",
    "for manufacturer, handsets in top_handsets_per_manufacturer.items():\n",
    "    print(f\"\\nTop 5 Handsets for {manufacturer}:\")\n",
    "    print(handsets)"
   ]
  },
  {
   "cell_type": "markdown",
   "metadata": {},
   "source": [
    "#### 3. Behavior on Applications"
   ]
  },
  {
   "cell_type": "code",
   "execution_count": 14,
   "metadata": {},
   "outputs": [
    {
     "name": "stdout",
     "output_type": "stream",
     "text": [
      "Aggregated User Behavior:\n",
      "   MSISDN/Number  Bearer Id  Dur. (ms)  HTTP DL (Bytes)  HTTP UL (Bytes)  \\\n",
      "0   3.360100e+10          1   116720.0     1.144710e+08     3.242301e+06   \n",
      "1   3.360100e+10          1   181230.0     1.144710e+08     3.242301e+06   \n",
      "2   3.360100e+10          1   134969.0     1.144710e+08     3.242301e+06   \n",
      "3   3.360101e+10          1    49878.0     8.749000e+03     6.530000e+02   \n",
      "4   3.360101e+10          2    37104.0     2.996791e+08     7.976119e+06   \n",
      "\n",
      "   Social Media DL (Bytes)  Google DL (Bytes)  Email DL (Bytes)  \\\n",
      "0                2206504.0          3337123.0          837400.0   \n",
      "1                2598548.0          4197697.0         2828821.0   \n",
      "2                3148004.0          3343483.0         2436500.0   \n",
      "3                 251469.0          5937765.0         2178618.0   \n",
      "4                2861230.0         13728668.0         2247808.0   \n",
      "\n",
      "   Youtube DL (Bytes)  Netflix DL (Bytes)  Gaming DL (Bytes)  Other DL (Bytes)  \n",
      "0          14900201.0          10265105.0       8.110911e+08       377096990.0  \n",
      "1           5324251.0            770569.0       1.050353e+08       279557701.0  \n",
      "2           2137272.0          16525919.0       5.290685e+08       495086501.0  \n",
      "3           4393123.0           1157362.0       3.880748e+08        25248001.0  \n",
      "4          10339971.0          24971647.0       1.308981e+09       777643713.0  \n"
     ]
    }
   ],
   "source": [
    "# Group by 'MSISDN/Number' and aggregate data\n",
    "user_behavior = df.groupby('MSISDN/Number').agg({\n",
    "    'Bearer Id': 'count',  # Counting the number of sessions (or occurrences)\n",
    "    'Dur. (ms)': 'sum',  # Summing up session duration\n",
    "    'HTTP DL (Bytes)': 'sum',  # Summing up download data\n",
    "    'HTTP UL (Bytes)': 'sum',  # Summing up upload data\n",
    "    'Social Media DL (Bytes)': 'sum',\n",
    "    'Google DL (Bytes)': 'sum',\n",
    "    'Email DL (Bytes)': 'sum',\n",
    "    'Youtube DL (Bytes)': 'sum',\n",
    "    'Netflix DL (Bytes)': 'sum',\n",
    "    'Gaming DL (Bytes)': 'sum',\n",
    "    'Other DL (Bytes)': 'sum'\n",
    "}).reset_index()\n",
    "\n",
    "print(\"Aggregated User Behavior:\")\n",
    "print(user_behavior.head())"
   ]
  },
  {
   "cell_type": "markdown",
   "metadata": {},
   "source": [
    "## 4. Exploratory Data Analysis (EDA)"
   ]
  },
  {
   "cell_type": "markdown",
   "metadata": {},
   "source": [
    "#### a. Non-Graphical Analysis"
   ]
  },
  {
   "cell_type": "markdown",
   "metadata": {},
   "source": [
    "##### Group by MSISDN/Number and aggregate the data:"
   ]
  },
  {
   "cell_type": "code",
   "execution_count": 16,
   "metadata": {},
   "outputs": [],
   "source": [
    "user_behavior = df.groupby('MSISDN/Number').agg({\n",
    "    'Bearer Id': 'count',  # Counting the number of sessions (or occurrences)\n",
    "    'Dur. (ms)': 'sum',  # Summing up session duration\n",
    "    'HTTP DL (Bytes)': 'sum',  # Summing up download data\n",
    "    'HTTP UL (Bytes)': 'sum',  # Summing up upload data\n",
    "    'Social Media DL (Bytes)': 'sum',\n",
    "    'Google DL (Bytes)': 'sum',\n",
    "    'Email DL (Bytes)': 'sum',\n",
    "    'Youtube DL (Bytes)': 'sum',\n",
    "    'Netflix DL (Bytes)': 'sum',\n",
    "    'Gaming DL (Bytes)': 'sum',\n",
    "    'Other DL (Bytes)': 'sum'\n",
    "}).reset_index()"
   ]
  },
  {
   "cell_type": "markdown",
   "metadata": {},
   "source": [
    "##### Calculate deciles based on Dur. (ms) (session duration):"
   ]
  },
  {
   "cell_type": "code",
   "execution_count": 17,
   "metadata": {},
   "outputs": [],
   "source": [
    "# Ensure 'Dur. (ms)' is the column used for session duration\n",
    "user_behavior['decile_class'] = pd.qcut(user_behavior['Dur. (ms)'], 10, labels=False)"
   ]
  },
  {
   "cell_type": "markdown",
   "metadata": {},
   "source": [
    "##### Aggregate data per decile class:"
   ]
  },
  {
   "cell_type": "code",
   "execution_count": 18,
   "metadata": {},
   "outputs": [
    {
     "name": "stdout",
     "output_type": "stream",
     "text": [
      "Data per Decile Class:\n",
      "   decile_class  HTTP DL (Bytes)  HTTP UL (Bytes)  Social Media DL (Bytes)  \\\n",
      "0             0     3.874064e+11     1.258731e+10             1.978229e+10   \n",
      "1             1     5.935287e+11     1.826821e+10             2.206094e+10   \n",
      "2             2     1.123908e+12     3.211362e+10             2.369099e+10   \n",
      "3             3     2.528428e+12     6.686226e+10             2.176888e+10   \n",
      "4             4     1.061076e+12     3.170471e+10             1.851481e+10   \n",
      "5             5     1.297835e+12     3.771931e+10             2.316430e+10   \n",
      "6             6     1.313368e+12     3.738729e+10             2.224763e+10   \n",
      "7             7     2.381544e+12     6.442243e+10             2.860795e+10   \n",
      "8             8     2.406773e+12     6.605749e+10             3.363577e+10   \n",
      "9             9     4.076901e+12     1.192258e+11             5.582650e+10   \n",
      "\n",
      "   Google DL (Bytes)  Email DL (Bytes)  Youtube DL (Bytes)  \\\n",
      "0       6.298603e+10      1.984219e+10        1.283557e+11   \n",
      "1       7.060165e+10      2.194750e+10        1.411126e+11   \n",
      "2       7.655318e+10      2.350643e+10        1.538166e+11   \n",
      "3       6.954987e+10      2.165455e+10        1.421499e+11   \n",
      "4       6.000480e+10      1.856888e+10        1.189748e+11   \n",
      "5       7.423496e+10      2.319829e+10        1.507299e+11   \n",
      "6       7.084680e+10      2.208730e+10        1.440424e+11   \n",
      "7       9.069760e+10      2.841932e+10        1.828658e+11   \n",
      "8       1.079157e+11      3.345656e+10        2.190418e+11   \n",
      "9       1.792281e+11      5.608010e+10        3.640331e+11   \n",
      "\n",
      "   Netflix DL (Bytes)  Gaming DL (Bytes)  Other DL (Bytes)  \n",
      "0        1.289800e+11       4.629895e+12      4.623890e+12  \n",
      "1        1.436962e+11       5.204684e+12      5.111023e+12  \n",
      "2        1.542110e+11       5.560874e+12      5.549141e+12  \n",
      "3        1.397813e+11       5.138658e+12      5.159020e+12  \n",
      "4        1.196459e+11       4.381250e+12      4.411324e+12  \n",
      "5        1.503535e+11       5.470825e+12      5.491822e+12  \n",
      "6        1.416821e+11       5.245877e+12      5.164547e+12  \n",
      "7        1.847443e+11       6.654635e+12      6.647662e+12  \n",
      "8        2.187337e+11       7.923185e+12      7.903875e+12  \n",
      "9        3.622114e+11       1.309724e+13      1.310320e+13  \n"
     ]
    }
   ],
   "source": [
    "data_per_decile = user_behavior.groupby('decile_class').agg({\n",
    "    'HTTP DL (Bytes)': 'sum',\n",
    "    'HTTP UL (Bytes)': 'sum',\n",
    "    'Social Media DL (Bytes)': 'sum',\n",
    "    'Google DL (Bytes)': 'sum',\n",
    "    'Email DL (Bytes)': 'sum',\n",
    "    'Youtube DL (Bytes)': 'sum',\n",
    "    'Netflix DL (Bytes)': 'sum',\n",
    "    'Gaming DL (Bytes)': 'sum',\n",
    "    'Other DL (Bytes)': 'sum'\n",
    "}).reset_index()\n",
    "\n",
    "print(\"Data per Decile Class:\")\n",
    "print(data_per_decile)"
   ]
  },
  {
   "cell_type": "markdown",
   "metadata": {},
   "source": [
    "#### b. Graphical Analysis"
   ]
  },
  {
   "cell_type": "code",
   "execution_count": 20,
   "metadata": {},
   "outputs": [
    {
     "data": {
      "image/png": "[encoded data removed]",
      "text/plain": [
       "<Figure size 1000x600 with 1 Axes>"
      ]
     },
     "metadata": {},
     "output_type": "display_data"
    }
   ],
   "source": [
    "import matplotlib.pyplot as plt\n",
    "import seaborn as sns\n",
    "\n",
    "# Plot histogram of session durations\n",
    "plt.figure(figsize=(10, 6))\n",
    "sns.histplot(user_behavior['Dur. (ms)'], bins=30)\n",
    "plt.title('Distribution of Session Durations')\n",
    "plt.xlabel('Session Duration (ms)')\n",
    "plt.ylabel('Frequency')\n",
    "plt.show()"
   ]
  },
  {
   "cell_type": "markdown",
   "metadata": {},
   "source": [
    "#### c. Bivariate Analysis"
   ]
  },
  {
   "cell_type": "code",
   "execution_count": 22,
   "metadata": {},
   "outputs": [
    {
     "data": {
      "image/png": "[encoded data removed]",
      "text/plain": [
       "<Figure size 1000x600 with 1 Axes>"
      ]
     },
     "metadata": {},
     "output_type": "display_data"
    }
   ],
   "source": [
    "import matplotlib.pyplot as plt\n",
    "import seaborn as sns\n",
    "\n",
    "# Plot scatter plot of YouTube data vs Total data volume\n",
    "plt.figure(figsize=(10, 6))\n",
    "sns.scatterplot(x=user_behavior['Youtube DL (Bytes)'], \n",
    "                y=user_behavior['HTTP DL (Bytes)'] + user_behavior['Google DL (Bytes)'] + \n",
    "                  user_behavior['Email DL (Bytes)'] + user_behavior['Netflix DL (Bytes)'] + \n",
    "                  user_behavior['Gaming DL (Bytes)'] + user_behavior['Other DL (Bytes)'])\n",
    "plt.title('YouTube Data vs Total Data Volume')\n",
    "plt.xlabel('YouTube Data (Bytes)')\n",
    "plt.ylabel('Total Data Volume (Bytes)')\n",
    "plt.show()"
   ]
  },
  {
   "cell_type": "markdown",
   "metadata": {},
   "source": [
    "#### d. Correlation Analysis"
   ]
  },
  {
   "cell_type": "code",
   "execution_count": 24,
   "metadata": {},
   "outputs": [
    {
     "name": "stdout",
     "output_type": "stream",
     "text": [
      "Correlation Matrix:\n",
      "                         Social Media DL (Bytes)  Google DL (Bytes)  \\\n",
      "Social Media DL (Bytes)                 1.000000           0.960410   \n",
      "Google DL (Bytes)                       0.960410           1.000000   \n",
      "Email DL (Bytes)                        0.960932           0.959794   \n",
      "Youtube DL (Bytes)                      0.961046           0.960102   \n",
      "Netflix DL (Bytes)                      0.960543           0.959418   \n",
      "Gaming DL (Bytes)                       0.961087           0.960025   \n",
      "Other DL (Bytes)                        0.960380           0.959308   \n",
      "\n",
      "                         Email DL (Bytes)  Youtube DL (Bytes)  \\\n",
      "Social Media DL (Bytes)          0.960932            0.961046   \n",
      "Google DL (Bytes)                0.959794            0.960102   \n",
      "Email DL (Bytes)                 1.000000            0.960537   \n",
      "Youtube DL (Bytes)               0.960537            1.000000   \n",
      "Netflix DL (Bytes)               0.959728            0.960288   \n",
      "Gaming DL (Bytes)                0.959991            0.960668   \n",
      "Other DL (Bytes)                 0.959461            0.960146   \n",
      "\n",
      "                         Netflix DL (Bytes)  Gaming DL (Bytes)  \\\n",
      "Social Media DL (Bytes)            0.960543           0.961087   \n",
      "Google DL (Bytes)                  0.959418           0.960025   \n",
      "Email DL (Bytes)                   0.959728           0.959991   \n",
      "Youtube DL (Bytes)                 0.960288           0.960668   \n",
      "Netflix DL (Bytes)                 1.000000           0.960094   \n",
      "Gaming DL (Bytes)                  0.960094           1.000000   \n",
      "Other DL (Bytes)                   0.958962           0.959611   \n",
      "\n",
      "                         Other DL (Bytes)  \n",
      "Social Media DL (Bytes)          0.960380  \n",
      "Google DL (Bytes)                0.959308  \n",
      "Email DL (Bytes)                 0.959461  \n",
      "Youtube DL (Bytes)               0.960146  \n",
      "Netflix DL (Bytes)               0.958962  \n",
      "Gaming DL (Bytes)                0.959611  \n",
      "Other DL (Bytes)                 1.000000  \n"
     ]
    }
   ],
   "source": [
    "# Calculate the correlation matrix for the correct columns\n",
    "correlation_matrix = user_behavior[['Social Media DL (Bytes)', 'Google DL (Bytes)', 'Email DL (Bytes)', \n",
    "                                    'Youtube DL (Bytes)', 'Netflix DL (Bytes)', 'Gaming DL (Bytes)', \n",
    "                                    'Other DL (Bytes)']].corr()\n",
    "\n",
    "# Display the correlation matrix\n",
    "print(\"Correlation Matrix:\")\n",
    "print(correlation_matrix)"
   ]
  },
  {
   "cell_type": "markdown",
   "metadata": {},
   "source": [
    "#### e. Dimensionality Reduction"
   ]
  },
  {
   "cell_type": "code",
   "execution_count": 28,
   "metadata": {},
   "outputs": [
    {
     "name": "stdout",
     "output_type": "stream",
     "text": [
      "Index(['MSISDN/Number', 'Bearer Id', 'Dur. (ms)', 'HTTP DL (Bytes)',\n",
      "       'HTTP UL (Bytes)', 'Social Media DL (Bytes)', 'Google DL (Bytes)',\n",
      "       'Email DL (Bytes)', 'Youtube DL (Bytes)', 'Netflix DL (Bytes)',\n",
      "       'Gaming DL (Bytes)', 'Other DL (Bytes)', 'decile_class'],\n",
      "      dtype='object')\n"
     ]
    }
   ],
   "source": [
    "# Inspect the columns in the DataFrame\n",
    "print(user_behavior.columns)"
   ]
  },
  {
   "cell_type": "code",
   "execution_count": 29,
   "metadata": {},
   "outputs": [
    {
     "name": "stdout",
     "output_type": "stream",
     "text": [
      "Correlation Matrix:\n",
      "                         Social Media DL (Bytes)  Google DL (Bytes)  \\\n",
      "Social Media DL (Bytes)                 1.000000           0.960410   \n",
      "Google DL (Bytes)                       0.960410           1.000000   \n",
      "Email DL (Bytes)                        0.960932           0.959794   \n",
      "Youtube DL (Bytes)                      0.961046           0.960102   \n",
      "Netflix DL (Bytes)                      0.960543           0.959418   \n",
      "Gaming DL (Bytes)                       0.961087           0.960025   \n",
      "Other DL (Bytes)                        0.960380           0.959308   \n",
      "\n",
      "                         Email DL (Bytes)  Youtube DL (Bytes)  \\\n",
      "Social Media DL (Bytes)          0.960932            0.961046   \n",
      "Google DL (Bytes)                0.959794            0.960102   \n",
      "Email DL (Bytes)                 1.000000            0.960537   \n",
      "Youtube DL (Bytes)               0.960537            1.000000   \n",
      "Netflix DL (Bytes)               0.959728            0.960288   \n",
      "Gaming DL (Bytes)                0.959991            0.960668   \n",
      "Other DL (Bytes)                 0.959461            0.960146   \n",
      "\n",
      "                         Netflix DL (Bytes)  Gaming DL (Bytes)  \\\n",
      "Social Media DL (Bytes)            0.960543           0.961087   \n",
      "Google DL (Bytes)                  0.959418           0.960025   \n",
      "Email DL (Bytes)                   0.959728           0.959991   \n",
      "Youtube DL (Bytes)                 0.960288           0.960668   \n",
      "Netflix DL (Bytes)                 1.000000           0.960094   \n",
      "Gaming DL (Bytes)                  0.960094           1.000000   \n",
      "Other DL (Bytes)                   0.958962           0.959611   \n",
      "\n",
      "                         Other DL (Bytes)  \n",
      "Social Media DL (Bytes)          0.960380  \n",
      "Google DL (Bytes)                0.959308  \n",
      "Email DL (Bytes)                 0.959461  \n",
      "Youtube DL (Bytes)               0.960146  \n",
      "Netflix DL (Bytes)               0.958962  \n",
      "Gaming DL (Bytes)                0.959611  \n",
      "Other DL (Bytes)                 1.000000  \n"
     ]
    }
   ],
   "source": [
    "from sklearn.decomposition import PCA\n",
    "\n",
    "# Specify the correct features for PCA\n",
    "features = user_behavior[['Dur. (ms)', 'HTTP DL (Bytes)', 'HTTP UL (Bytes)', \n",
    "                          'Social Media DL (Bytes)', 'Google DL (Bytes)', \n",
    "                          'Email DL (Bytes)', 'Youtube DL (Bytes)', \n",
    "                          'Netflix DL (Bytes)', 'Gaming DL (Bytes)', \n",
    "                          'Other DL (Bytes)']]\n",
    "\n",
    "# Applying PCA\n",
    "pca = PCA(n_components=2)\n",
    "pca_result = pca.fit_transform(features)\n",
    "\n",
    "correlation_matrix = user_behavior[['Social Media DL (Bytes)', 'Google DL (Bytes)', 'Email DL (Bytes)', \n",
    "                                    'Youtube DL (Bytes)', 'Netflix DL (Bytes)', 'Gaming DL (Bytes)', \n",
    "                                    'Other DL (Bytes)']].corr()\n",
    "print(\"Correlation Matrix:\")\n",
    "print(correlation_matrix)"
   ]
  }
 ],
 "metadata": {
  "kernelspec": {
   "display_name": "Python 3",
   "language": "python",
   "name": "python3"
  },
  "language_info": {
   "codemirror_mode": {
    "name": "ipython",
    "version": 3
   },
   "file_extension": ".py",
   "mimetype": "text/x-python",
   "name": "python",
   "nbconvert_exporter": "python",
   "pygments_lexer": "ipython3",
   "version": "3.10.12"
  }
 },
 "nbformat": 4,
 "nbformat_minor": 2
}
